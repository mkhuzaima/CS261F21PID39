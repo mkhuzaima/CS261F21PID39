{
 "cells": [
  {
   "cell_type": "code",
   "execution_count": 1,
   "id": "d1b7c84b",
   "metadata": {},
   "outputs": [],
   "source": [
    "from selenium import webdriver"
   ]
  },
  {
   "cell_type": "code",
   "execution_count": 81,
   "id": "ae22ac46",
   "metadata": {},
   "outputs": [],
   "source": [
    "driver = webdriver.Chrome(executable_path='G:\\mk\\Semester3\\DSA_Lab\\week2\\chromedriver.exe')"
   ]
  },
  {
   "cell_type": "code",
   "execution_count": 2,
   "id": "ebf7269c",
   "metadata": {},
   "outputs": [],
   "source": [
    "url = 'https://www.fiverr.com/search/gigs?query=graphic&source=main_banner&search_in=everywhere&search-autocomplete-original-term=graphic'"
   ]
  },
  {
   "cell_type": "code",
   "execution_count": 82,
   "id": "138a6f17",
   "metadata": {},
   "outputs": [],
   "source": [
    "driver.get(url)"
   ]
  },
  {
   "cell_type": "code",
   "execution_count": 84,
   "id": "8f0d0c13",
   "metadata": {
    "scrolled": true
   },
   "outputs": [
    {
     "data": {
      "text/plain": [
       "<bound method WebDriver.switch_to_default_content of <selenium.webdriver.chrome.webdriver.WebDriver (session=\"696aebaabf85cc7358988a80c3873cba\")>>"
      ]
     },
     "execution_count": 84,
     "metadata": {},
     "output_type": "execute_result"
    }
   ],
   "source": [
    "driver.switch_to_default_content"
   ]
  },
  {
   "cell_type": "code",
   "execution_count": 90,
   "id": "0d70d7b7",
   "metadata": {},
   "outputs": [],
   "source": [
    "cards = driver.find_elements_by_css_selector('.card')"
   ]
  },
  {
   "cell_type": "code",
   "execution_count": 73,
   "id": "f5e7b149",
   "metadata": {
    "scrolled": true
   },
   "outputs": [],
   "source": [
    "cards = driver.find_elements_by_css_selector('.card')"
   ]
  },
  {
   "cell_type": "code",
   "execution_count": 74,
   "id": "04b8e188",
   "metadata": {
    "scrolled": true
   },
   "outputs": [
    {
     "data": {
      "text/plain": [
       "48"
      ]
     },
     "execution_count": 74,
     "metadata": {},
     "output_type": "execute_result"
    }
   ],
   "source": [
    "len(cards)"
   ]
  },
  {
   "cell_type": "code",
   "execution_count": 66,
   "id": "5ee35be2",
   "metadata": {
    "scrolled": true
   },
   "outputs": [
    {
     "name": "stdout",
     "output_type": "stream",
     "text": [
      "I will do any kind of professional photoshop graphic design\n",
      "₨1793\n",
      "I will be the perfect guy for your graphic design\n",
      "₨3585\n",
      "I will do graphic design services of your choice\n",
      "₨8961\n",
      "I will make any graphic design you need\n",
      "₨1793\n",
      "I will do custom order related to graphic design work\n",
      "₨897\n",
      "I will do any graphics designing task for you professionally\n",
      "₨1793\n",
      "I will do trendy watercolor graphic t shirt design shirt design\n",
      "₨2689\n",
      "I will do illustrated graphic design, flow chart, infographic design\n",
      "₨2689\n",
      "I will do ultimate photoshop editing, graphics design, logo design\n",
      "₨897\n",
      "I will do any kind of graphic design using photoshop illustrator\n",
      "₨897\n",
      "I will do recreate any kind of graphics design or, editing, modify,\n",
      "₨1793\n",
      "I will create sports graphics for social media or business\n",
      "₨1793\n",
      "I will be your personal graphic designer and photoshop expert\n",
      "₨2689\n",
      "I will do any graphic design work for you\n",
      "₨3585\n",
      "I will make a stunning game graphic UI, menus and buttons\n",
      "₨3585\n",
      "I will do your graphic design and logo design with illustrator\n",
      "₨2689\n",
      "I will do any kind of graphics and motion graphics for your design\n",
      "₨2689\n",
      "I will do adobe illustrator, indesign, photoshop editing, vector logo, graphic design\n",
      "₨4481\n",
      "I will create professional motion graphics and video production\n",
      "₨7169\n",
      "I will do premium quality photoshop work and graphics designs\n",
      "₨3585\n",
      "I will do any graphic design or adobe photoshop work\n",
      "₨1793\n",
      "I will design your next graphic for your streetwear brand\n",
      "₨14337\n",
      "I will do anything graphic design related, photoshop images, redesign vector artwork\n",
      "₨897\n",
      "I will be your graphic artist by using adobe photoshop, illustrator\n",
      "₨1793\n",
      "I will do illustrator, logo, artist, graphic design, photo edit modification\n",
      "₨2689\n",
      "I will be your graphic designer for adobe photoshop, illustrator\n",
      "₨1793\n",
      "I will design professionally amazon product listing image graphics\n",
      "₨2689\n",
      "I will be your go to graphic artist or graphic designer\n",
      "₨1793\n",
      "I will do any graphic design using adobe indesign\n",
      "₨4481\n",
      "I will design an eye catchy game graphic and ui for your game\n",
      "₨897\n",
      "I will design creative shopfront or storefront window graphics\n",
      "₨3585\n",
      "I will create any kind of graphic art or illustration\n",
      "₨7169\n",
      "I will be your personal graphics designer for your business\n",
      "₨1793\n",
      "I will design an awesome graphic design, redesign vector artwork, digital art\n",
      "₨897\n",
      "I will illustrate your comics book,graphic novel or manga\n",
      "₨5377\n",
      "I will design game ui graphics and game ui ux designs for you\n",
      "₨3585\n",
      "I will create professional screenshots and feature graphic\n",
      "₨897\n",
      "I will do comic book or graphic novel art illustrations\n",
      "₨7169\n",
      "I will do a detailed real estate drone video editing with motion graphics\n",
      "₨5377\n",
      "I will design any 2d graphics and UI for your game\n",
      "₨897\n",
      "I will be your personal expert graphic designer\n",
      "₨2689\n",
      "I will promote your comic book, graphic novel or anything comics\n",
      "₨8065\n",
      "I will make creative graphics, illustrations and landscape in 24hr\n",
      "₨2689\n",
      "I will design modern flat custom vector graphic icons\n",
      "₨897\n",
      "I will create motion graphics and vfx animation\n",
      "₨11649\n",
      "I will do any graphic design for you\n",
      "₨4481\n",
      "I will design flyer, poster, postcard or any other graphics\n",
      "₨6273\n",
      "I will do an awesome banner, flyer, poster, or any graphic design or photoshop work\n",
      "₨897\n"
     ]
    }
   ],
   "source": [
    "for card in cards:\n",
    "    title = card.find_element_by_class_name('text-display-7').text\n",
    "    print(title)\n",
    "    \n",
    "    price = card.find_elements_by_tag_name('span')[-1].text\n",
    "    print(price)"
   ]
  },
  {
   "cell_type": "code",
   "execution_count": 80,
   "id": "815481d0",
   "metadata": {
    "scrolled": true
   },
   "outputs": [],
   "source": [
    "driver.quit()"
   ]
  }
 ],
 "metadata": {
  "kernelspec": {
   "display_name": "Python 3 (ipykernel)",
   "language": "python",
   "name": "python3"
  },
  "language_info": {
   "codemirror_mode": {
    "name": "ipython",
    "version": 3
   },
   "file_extension": ".py",
   "mimetype": "text/x-python",
   "name": "python",
   "nbconvert_exporter": "python",
   "pygments_lexer": "ipython3",
   "version": "3.9.7"
  }
 },
 "nbformat": 4,
 "nbformat_minor": 5
}
