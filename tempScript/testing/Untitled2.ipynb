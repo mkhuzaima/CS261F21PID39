{
 "cells": [
  {
   "cell_type": "code",
   "execution_count": 1,
   "id": "6340cab7",
   "metadata": {},
   "outputs": [],
   "source": [
    "from selenium import webdriver"
   ]
  },
  {
   "cell_type": "code",
   "execution_count": 26,
   "id": "618b8d1a",
   "metadata": {},
   "outputs": [],
   "source": [
    "driver = webdriver.Chrome(executable_path='G:\\mk\\Semester3\\DSA_Lab\\week2\\chromedriver.exe')"
   ]
  },
  {
   "cell_type": "code",
   "execution_count": 24,
   "id": "24ac214f",
   "metadata": {},
   "outputs": [],
   "source": [
    "url = 'https://www.freelancer.com/freelancers?w=f&ngsw-bypass='"
   ]
  },
  {
   "cell_type": "code",
   "execution_count": 27,
   "id": "170b0dab",
   "metadata": {},
   "outputs": [],
   "source": [
    "driver.get(url)"
   ]
  },
  {
   "cell_type": "code",
   "execution_count": 74,
   "id": "82709b45",
   "metadata": {},
   "outputs": [],
   "source": [
    "cards = driver.find_elements_by_css_selector('.ns_result')"
   ]
  },
  {
   "cell_type": "code",
   "execution_count": null,
   "id": "6193d272",
   "metadata": {},
   "outputs": [],
   "source": []
  },
  {
   "cell_type": "code",
   "execution_count": 140,
   "id": "6bf562ab",
   "metadata": {
    "scrolled": true
   },
   "outputs": [
    {
     "name": "stdout",
     "output_type": "stream",
     "text": [
      "('mikehurley', 'White Hat SEO, SMO, Google Ads', 'India', <selenium.webdriver.remote.webelement.WebElement (session=\"21d16668b6f45dd93f4471c835038449\", element=\"59aa8804-d40e-4bb2-a98f-aff328aca6bb\")>, '4.9', '10.0', '5496 reviews', '$20 USD per hour', 'We’re Elite Information Tech, and we thank you for considering us for your project needs! We’re a team of over 100 highly specialized digital marketing & web development professionals who pride ourselves on being client-focused and providing high-end, quality results every time. We offer a number of services,...', 'SEO, Link Building, Internet Marketing, Marketing, Advertising', 'https://cdn2.f-cdn.com/ppic/151980752/logo/2239716/profile_logo_2239716.jpg')\n",
      "('assignsolver', '!!**Master in Article, Blog & CopyWriting**!!', 'Pakistan', <selenium.webdriver.remote.webelement.WebElement (session=\"21d16668b6f45dd93f4471c835038449\", element=\"d488c696-cda9-4708-b5a7-f2e8f35496b8\")>, '4.7', '8.0', '1193 reviews', '$9 USD per hour', 'Hi, I am Faisal Mehmood and I am a highly committed person towards my work. I have more than 10-Years of experience in the field of copywriting. My passion from the initial stage of my life is writing, I love to write professional stuff, it includes; SEO-Optimized Articles & Blogs, Book Writing, Website Content,...', 'Research Writing, Business Plans, Article Writing, Research, Report Writing', 'https://cdn5.f-cdn.com/ppic/172353795/logo/2172996/profile_logo_2172996.jpg')\n",
      "('topacademictutor', 'TopQuality + LowPrices + UnlimitedRevisions = ME', 'Pakistan', <selenium.webdriver.remote.webelement.WebElement (session=\"21d16668b6f45dd93f4471c835038449\", element=\"31769f6d-908f-43d1-8314-7b492c79bd21\")>, '4.8', '8.3', '1455 reviews', '$14 USD per hour', '⭐⭐⭐⭐⭐بِسمِ اللہِ الرَّحمٰنِ الرَّحِيم ⭐⭐⭐⭐⭐ I am a Writing Master who has massive experience as a writer because I am working in this industry since 2009. I have done Chartered Financial Analyst (CFA) ® in FIRST Attempt. It means I am very good with Finance & Business related projects. Additionally, I am also...', 'Research Writing, Report Writing, Technical Writing, Proofreading, Article Writing', 'https://cdn2.f-cdn.com/ppic/173308523/logo/23289101/profile_logo_23289101.jpg')\n",
      "('BestSEOProviders', 'Certified WordPress/SEO/Adwords/PPC Experts', 'India', <selenium.webdriver.remote.webelement.WebElement (session=\"21d16668b6f45dd93f4471c835038449\", element=\"1ad00f1a-2315-47cd-9467-55928ba2c84b\")>, '4.9', '8.3', '966 reviews', '$15 USD per hour', 'Hi, I have over 12+ years of experience in SEO, Google Ads, PPC, WordPress Development, JavaScript, eCommerce, Woocommerce, Magento, PHP, MySQL, HTML, CSS, and Content Writing. I have done SEO for 5000+ Websites. Expertise:- ✅ WordPress/Magento/PHP/Woocommerce/ ✅ Laravel/ CodeIgniter/eCommerce/ MySQL ✅...', 'SEO, Internet Marketing, Link Building, Marketing, Search Engine Marketing', 'https://cdn6.f-cdn.com/ppic/116920944/logo/16845909/profile_logo_16845909.jpg')\n",
      "('eTranslators', 'TRUSTED TRANSLATION & TRANSCRIPTION CAMPAIGNERS!', 'Bangladesh', <selenium.webdriver.remote.webelement.WebElement (session=\"21d16668b6f45dd93f4471c835038449\", element=\"f6c5c186-4209-40e8-a7bd-f4eb60fe72e6\")>, '4.9', '9.5', '2324 reviews', '$25 USD per hour', 'eTranslators offers 8 years of experience in providing top-quality service, professional & effective TRANSLATION, TRANSCRIPTION, EDITING, PROOFREADING, WRITING, VOICE OVER, DUBBING, DIGITAL CONTENT DEVELOPMENT & MANAGMENT campaigns. Our services span over 200 languages, offering no compromise in quality; with a...', 'Translation, English (US) Translator, English (UK) Translator, German, French Translator', 'https://cdn5.f-cdn.com/ppic/164284540/logo/9641232/profile_logo_9641232.jpg')\n",
      "('infowider11', 'App Development Team | Website Development Team', 'India', <selenium.webdriver.remote.webelement.WebElement (session=\"21d16668b6f45dd93f4471c835038449\", element=\"50a12781-bdbc-4f58-8200-c81e9230e0b4\")>, '4.9', '8.8', '274 reviews', '$30 USD per hour', 'Over 9+ years of the experience in Website Development and Mobile development for IOS and Android I represent a high-experienced team that has strong skills in mobile IOS and Android development and Website Development. Application Zone: * Fitness and health apps ; * Whatsapp Based Apps; * Live streaming...', 'PHP, HTML, Website Design, Graphic Design, JavaScript', 'https://cdn5.f-cdn.com/ppic/114794263/logo/21865920/profile_logo_21865920.jpg')\n",
      "('seaanddream', 'Top-Class E-Commerce & Development Solutions...', 'United Kingdom', <selenium.webdriver.remote.webelement.WebElement (session=\"21d16668b6f45dd93f4471c835038449\", element=\"6e045e54-bc69-4505-874a-3447874fbd72\")>, '5.0', '8.9', '455 reviews', '$50 USD per hour', 'We are ANC Solutions, and we are your all-in-one stop for all your Web Development, Internet Marketing, E-commerce and BeSpoke Software needs. At ANC, we pride ourselves on a stellar track record of Freelancer projects, with over 600 completed to date. We sport a 5-star average review, with over 99% of our...', 'Web Scraping, Excel, PHP, Website Design, Data Processing', 'https://cdn5.f-cdn.com/ppic/181193192/logo/7040155/profile_logo_7040155.jpg')\n",
      "('mahipal7', '#1 Google Rank + Organic Traffic + Customer By SEO', 'India', <selenium.webdriver.remote.webelement.WebElement (session=\"21d16668b6f45dd93f4471c835038449\", element=\"dec0618d-37ee-4491-a600-b3e1e92d7c38\")>, '4.9', '8.7', '1036 reviews', '$15 USD per hour', '✅Get 1st Ranking on Google ✅10+ Years Experience working in SEO ✅Deliver Good Quality work & Excellent Results Hello, My name is Mahipal R, I have worked on 1030+ SEO projects with Clients from all around the world. I have proven track record of 11 years in white hat SEO, Link Building & Digital Marketing. I can...', 'SEO, Link Building, Internet Marketing, Marketing, Advertising', 'https://cdn3.f-cdn.com/ppic/181512391/logo/2610113/profile_logo_2610113.jpg')\n",
      "('seoempowerment', 'Professional SEO Service provide | Google Adwords', 'India', <selenium.webdriver.remote.webelement.WebElement (session=\"21d16668b6f45dd93f4471c835038449\", element=\"d607d9f3-a41e-4667-9d87-0a0319167af6\")>, '5.0', '9.3', '1401 reviews', '$12 USD per hour', 'Get more website traffic and new customers with professional White Hat SEO services and Internet Marketing. Help your company achieve higher rankings, increase revenue, and get a constant stream of new customers with White Hat SEO. I offer SEO, on-page SEO, backlink analysis, link building, competitor analysis 1....', 'SEO, Internet Marketing, Link Building, Marketing, Website Design', 'https://cdn2.f-cdn.com/ppic/181167384/logo/30492358/profile_logo_30492358.jpg')\n",
      "('eclairios', 'Top 1% on Freelancer Community', 'Pakistan', <selenium.webdriver.remote.webelement.WebElement (session=\"21d16668b6f45dd93f4471c835038449\", element=\"5fdda1bc-0658-4d21-a61e-9a54b91f7a68\")>, '5.0', '8.1', '124 reviews', '$50 USD per hour', 'I am expert in: ★ Advance Featured UI Designing ★ Firebase Storage, Auth, Analytics, Admobs ads, Custom AV ads ★ Agora Audio, Video Calls ★ Push Notifications, Cloud Messaging, Twilio Chat, SMS ★ Custom API Development ★ Payment Gateways: Google Pay, PayPal, Stripe, Paytm, WePay ★ Google Maps and APIs ★ Parse Server...', 'Android, Mobile App Development, PHP, Java, iPhone', 'https://cdn6.f-cdn.com/ppic/182046938/logo/23755092/profile_logo_23755092.jpg')\n"
     ]
    }
   ],
   "source": [
    "for card in cards:\n",
    "    print(scrapeCard(card))"
   ]
  },
  {
   "cell_type": "markdown",
   "id": "3428b60c",
   "metadata": {},
   "source": [
    "# pagination"
   ]
  },
  {
   "cell_type": "code",
   "execution_count": 183,
   "id": "3c74b38e",
   "metadata": {},
   "outputs": [],
   "source": [
    "lists = driver.find_element_by_css_selector('.Pagination')"
   ]
  },
  {
   "cell_type": "code",
   "execution_count": 184,
   "id": "10491212",
   "metadata": {},
   "outputs": [],
   "source": [
    "btns = lists.find_elements_by_css_selector('.btn.Pagination-link')"
   ]
  },
  {
   "cell_type": "code",
   "execution_count": 185,
   "id": "6073a18c",
   "metadata": {},
   "outputs": [
    {
     "data": {
      "text/plain": [
       "7"
      ]
     },
     "execution_count": 185,
     "metadata": {},
     "output_type": "execute_result"
    }
   ],
   "source": [
    "len(btns)"
   ]
  },
  {
   "cell_type": "code",
   "execution_count": 208,
   "id": "eeab352e",
   "metadata": {},
   "outputs": [],
   "source": [
    "script = '''function moveToNextPage(){\n",
    "    var list = document.getElementsByClassName('Pagination')[0];\n",
    "    var btns = list.getElementsByClassName('btn Pagination-link');\n",
    "    var l = btns.length;\n",
    "    b = btns[l-1];\n",
    "    b.click();\n",
    "}'''"
   ]
  },
  {
   "cell_type": "code",
   "execution_count": 210,
   "id": "99d84513",
   "metadata": {},
   "outputs": [],
   "source": [
    "driver.execute_script('window.moveToNextPage = '+ script)"
   ]
  },
  {
   "cell_type": "code",
   "execution_count": 211,
   "id": "177cec75",
   "metadata": {},
   "outputs": [
    {
     "data": {
      "text/plain": [
       "'https://www.freelancer.com/freelancers/9?w=f&ngsw-bypass='"
      ]
     },
     "execution_count": 211,
     "metadata": {},
     "output_type": "execute_result"
    }
   ],
   "source": [
    "driver.current_url"
   ]
  },
  {
   "cell_type": "code",
   "execution_count": 212,
   "id": "5c6614c1",
   "metadata": {},
   "outputs": [],
   "source": [
    "driver.execute_script('moveToNextPage()')"
   ]
  },
  {
   "cell_type": "code",
   "execution_count": 213,
   "id": "46635dc4",
   "metadata": {},
   "outputs": [
    {
     "data": {
      "text/plain": [
       "'https://www.freelancer.com/freelancers/10?w=f&ngsw-bypass='"
      ]
     },
     "execution_count": 213,
     "metadata": {},
     "output_type": "execute_result"
    }
   ],
   "source": [
    "driver.current_url"
   ]
  },
  {
   "cell_type": "code",
   "execution_count": 179,
   "id": "b77df00d",
   "metadata": {},
   "outputs": [
    {
     "data": {
      "text/plain": [
       "'<svg xmlns=\"http://www.w3.org/2000/svg\" viewBox=\"0 0 12 12\" class=\"flicon-pagination-prev\"><title>Previous</title><path d=\"M8 11L3 6l5-5v10z\"></path></svg>'"
      ]
     },
     "execution_count": 179,
     "metadata": {},
     "output_type": "execute_result"
    }
   ],
   "source": [
    "btns[0].get_attribute('innerHTML')"
   ]
  },
  {
   "cell_type": "code",
   "execution_count": 196,
   "id": "e74fdddc",
   "metadata": {
    "scrolled": true
   },
   "outputs": [
    {
     "name": "stdout",
     "output_type": "stream",
     "text": [
      "0\n",
      "1\n",
      "2\n",
      "3\n",
      "btn Pagination-link\n"
     ]
    }
   ],
   "source": [
    "flag = False\n",
    "toClick = None\n",
    "for i in range(len(btns)):\n",
    "    print(i)\n",
    "    \n",
    "    b = btns[i]\n",
    "    if (flag):\n",
    "        print(b.get_attribute('class'))\n",
    "        toClick = btns[i]\n",
    "        break\n",
    "    flag = 'is-active' in b.get_attribute('class')"
   ]
  },
  {
   "cell_type": "code",
   "execution_count": 195,
   "id": "65376c7e",
   "metadata": {},
   "outputs": [
    {
     "data": {
      "text/plain": [
       "'3'"
      ]
     },
     "execution_count": 195,
     "metadata": {},
     "output_type": "execute_result"
    }
   ],
   "source": [
    "toClick.get_attribute('innerHTML')"
   ]
  },
  {
   "cell_type": "code",
   "execution_count": 197,
   "id": "4f391c6d",
   "metadata": {},
   "outputs": [],
   "source": [
    "toClick.click()"
   ]
  },
  {
   "cell_type": "code",
   "execution_count": 206,
   "id": "07c28fe1",
   "metadata": {},
   "outputs": [],
   "source": [
    "b.click()"
   ]
  },
  {
   "cell_type": "code",
   "execution_count": null,
   "id": "30873893",
   "metadata": {},
   "outputs": [],
   "source": []
  },
  {
   "cell_type": "code",
   "execution_count": 155,
   "id": "7d8c9b6d",
   "metadata": {},
   "outputs": [],
   "source": [
    "btn = driver.find_element_by_css_selector('.PageFreelancersDirectory-pagination-item:not[.is]:nth-child(7)')"
   ]
  },
  {
   "cell_type": "code",
   "execution_count": 156,
   "id": "286e48f6",
   "metadata": {},
   "outputs": [
    {
     "data": {
      "text/plain": [
       "''"
      ]
     },
     "execution_count": 156,
     "metadata": {},
     "output_type": "execute_result"
    }
   ],
   "source": [
    "btn.text"
   ]
  },
  {
   "cell_type": "code",
   "execution_count": 162,
   "id": "c4e3d1dd",
   "metadata": {},
   "outputs": [],
   "source": [
    "btn.click()"
   ]
  },
  {
   "cell_type": "code",
   "execution_count": 75,
   "id": "90c0e2f2",
   "metadata": {},
   "outputs": [],
   "source": [
    "card = cards[0]"
   ]
  },
  {
   "cell_type": "markdown",
   "id": "a585fcdd",
   "metadata": {},
   "source": [
    "# Making function for card"
   ]
  },
  {
   "cell_type": "code",
   "execution_count": 138,
   "id": "f69e42ed",
   "metadata": {},
   "outputs": [],
   "source": [
    "def scrapeCard(card):\n",
    "    #name\n",
    "    name =  card.find_element_by_css_selector('h3').text\n",
    "    #tagline\n",
    "    tagline = card.find_element_by_css_selector('div.user-tagline').text\n",
    "    #country\n",
    "    country = card.find_element_by_css_selector('img.flag-icon').get_attribute('title')\n",
    "    \n",
    "    \n",
    "    cardStats = card.find_element_by_css_selector('.freelancer-card-stats')\n",
    "    #rating\n",
    "    span = cardStats.find_element_by_css_selector('span')\n",
    "    rating = span.get_attribute('data-star_rating')\n",
    "    #earningLabel\n",
    "    earningLabel = card.find_element_by_css_selector('.Earnings-label.freelancer-user-earnings').text\n",
    "    #reviews\n",
    "    rev = cardStats.find_element_by_css_selector('span.Rating-review').text\n",
    "    #hourly rate\n",
    "    rate = cardStats.find_element_by_css_selector('.user-hourly-rate.freelancer-hourlyrate').text\n",
    "    \n",
    "    #description\n",
    "    description = card.find_element_by_css_selector('.profile_text').text\n",
    "    #Top Skills\n",
    "    skills = card.find_element_by_css_selector('.top-skills').text\n",
    "    #Profile Picture\n",
    "    imgSrc = card.find_element_by_css_selector('.ImageThumbnail-image').get_attribute('src')\n",
    "    \n",
    "    return (name, tagline, country, cardStats, rating, earningLabel, rev, rate, description, skills, imgSrc)"
   ]
  },
  {
   "cell_type": "markdown",
   "id": "627928b1",
   "metadata": {},
   "source": [
    "## Name"
   ]
  },
  {
   "cell_type": "code",
   "execution_count": 76,
   "id": "ffe9686f",
   "metadata": {},
   "outputs": [],
   "source": [
    "name =  card.find_element_by_css_selector('h3').text"
   ]
  },
  {
   "cell_type": "code",
   "execution_count": 77,
   "id": "134812de",
   "metadata": {},
   "outputs": [
    {
     "data": {
      "text/plain": [
       "'mikehurley'"
      ]
     },
     "execution_count": 77,
     "metadata": {},
     "output_type": "execute_result"
    }
   ],
   "source": [
    "name"
   ]
  },
  {
   "cell_type": "markdown",
   "id": "35f8e058",
   "metadata": {},
   "source": [
    "## Tagline"
   ]
  },
  {
   "cell_type": "code",
   "execution_count": 47,
   "id": "41111dfd",
   "metadata": {},
   "outputs": [],
   "source": [
    "tagline = card.find_element_by_css_selector('div.user-tagline').text"
   ]
  },
  {
   "cell_type": "code",
   "execution_count": 48,
   "id": "33ac3e74",
   "metadata": {},
   "outputs": [
    {
     "data": {
      "text/plain": [
       "'White Hat SEO, SMO, Google Ads'"
      ]
     },
     "execution_count": 48,
     "metadata": {},
     "output_type": "execute_result"
    }
   ],
   "source": [
    "tagline"
   ]
  },
  {
   "cell_type": "markdown",
   "id": "60a9e7f5",
   "metadata": {},
   "source": [
    "## Country"
   ]
  },
  {
   "cell_type": "code",
   "execution_count": 88,
   "id": "df19224a",
   "metadata": {},
   "outputs": [],
   "source": [
    "country = card.find_element_by_css_selector('img.flag-icon').get_attribute('title')"
   ]
  },
  {
   "cell_type": "code",
   "execution_count": 89,
   "id": "50f3ef01",
   "metadata": {
    "scrolled": true
   },
   "outputs": [
    {
     "data": {
      "text/plain": [
       "'India'"
      ]
     },
     "execution_count": 89,
     "metadata": {},
     "output_type": "execute_result"
    }
   ],
   "source": [
    "country"
   ]
  },
  {
   "cell_type": "code",
   "execution_count": 105,
   "id": "1dcf74c3",
   "metadata": {},
   "outputs": [],
   "source": [
    "cardStats = card.find_element_by_css_selector('.freelancer-card-stats')"
   ]
  },
  {
   "cell_type": "markdown",
   "id": "0aa9a177",
   "metadata": {},
   "source": [
    "## Rating"
   ]
  },
  {
   "cell_type": "code",
   "execution_count": 106,
   "id": "37b629a1",
   "metadata": {},
   "outputs": [],
   "source": [
    "span = cardStats.find_element_by_css_selector('span')"
   ]
  },
  {
   "cell_type": "code",
   "execution_count": 109,
   "id": "565d5536",
   "metadata": {
    "scrolled": true
   },
   "outputs": [
    {
     "data": {
      "text/plain": [
       "'4.9'"
      ]
     },
     "execution_count": 109,
     "metadata": {},
     "output_type": "execute_result"
    }
   ],
   "source": [
    "rating = span.get_attribute('data-star_rating')"
   ]
  },
  {
   "cell_type": "markdown",
   "id": "55700d16",
   "metadata": {},
   "source": [
    "## Amount Earned"
   ]
  },
  {
   "cell_type": "code",
   "execution_count": 136,
   "id": "e1985e88",
   "metadata": {},
   "outputs": [],
   "source": [
    "earningLabel = card.find_element_by_css_selector('.Earnings-label.freelancer-user-earnings').text"
   ]
  },
  {
   "cell_type": "code",
   "execution_count": 137,
   "id": "d36e5afc",
   "metadata": {},
   "outputs": [
    {
     "data": {
      "text/plain": [
       "'10.0'"
      ]
     },
     "execution_count": 137,
     "metadata": {},
     "output_type": "execute_result"
    }
   ],
   "source": [
    "earningLabel"
   ]
  },
  {
   "cell_type": "markdown",
   "id": "a9aa375a",
   "metadata": {},
   "source": [
    "## Reviews"
   ]
  },
  {
   "cell_type": "code",
   "execution_count": 112,
   "id": "7a9ebb7d",
   "metadata": {},
   "outputs": [],
   "source": [
    "rev = cardStats.find_element_by_css_selector('span.Rating-review').text"
   ]
  },
  {
   "cell_type": "code",
   "execution_count": 114,
   "id": "94c604c7",
   "metadata": {},
   "outputs": [
    {
     "data": {
      "text/plain": [
       "'5496 reviews'"
      ]
     },
     "execution_count": 114,
     "metadata": {},
     "output_type": "execute_result"
    }
   ],
   "source": [
    "rev"
   ]
  },
  {
   "cell_type": "markdown",
   "id": "2ccde9e1",
   "metadata": {},
   "source": [
    "## Price"
   ]
  },
  {
   "cell_type": "code",
   "execution_count": 117,
   "id": "5f06118b",
   "metadata": {},
   "outputs": [],
   "source": [
    "rate = cardStats.find_element_by_css_selector('.user-hourly-rate.freelancer-hourlyrate').text"
   ]
  },
  {
   "cell_type": "code",
   "execution_count": 118,
   "id": "f7c8d913",
   "metadata": {},
   "outputs": [
    {
     "data": {
      "text/plain": [
       "'$20 USD per hour'"
      ]
     },
     "execution_count": 118,
     "metadata": {},
     "output_type": "execute_result"
    }
   ],
   "source": [
    "rate"
   ]
  },
  {
   "cell_type": "markdown",
   "id": "0c82da6b",
   "metadata": {},
   "source": [
    "## Description"
   ]
  },
  {
   "cell_type": "code",
   "execution_count": 122,
   "id": "00989a74",
   "metadata": {},
   "outputs": [],
   "source": [
    "description = card.find_element_by_css_selector('.profile_text').text"
   ]
  },
  {
   "cell_type": "code",
   "execution_count": 123,
   "id": "3b94dbf8",
   "metadata": {
    "scrolled": true
   },
   "outputs": [
    {
     "data": {
      "text/plain": [
       "'We’re Elite Information Tech, and we thank you for considering us for your project needs! We’re a team of over 100 highly specialized digital marketing & web development professionals who pride ourselves on being client-focused and providing high-end, quality results every time. We offer a number of services,...'"
      ]
     },
     "execution_count": 123,
     "metadata": {},
     "output_type": "execute_result"
    }
   ],
   "source": [
    "description"
   ]
  },
  {
   "cell_type": "markdown",
   "id": "57b2fa54",
   "metadata": {},
   "source": [
    "## Top Skills"
   ]
  },
  {
   "cell_type": "code",
   "execution_count": 128,
   "id": "a1a7f493",
   "metadata": {},
   "outputs": [],
   "source": [
    "skills = card.find_element_by_css_selector('.top-skills').text"
   ]
  },
  {
   "cell_type": "code",
   "execution_count": 129,
   "id": "926dd65c",
   "metadata": {
    "scrolled": true
   },
   "outputs": [
    {
     "data": {
      "text/plain": [
       "'SEO, Link Building, Internet Marketing, Marketing, Advertising'"
      ]
     },
     "execution_count": 129,
     "metadata": {},
     "output_type": "execute_result"
    }
   ],
   "source": [
    "skills"
   ]
  },
  {
   "cell_type": "markdown",
   "id": "9633dddd",
   "metadata": {},
   "source": [
    "## Profile Picture"
   ]
  },
  {
   "cell_type": "code",
   "execution_count": 132,
   "id": "e2d878ea",
   "metadata": {},
   "outputs": [],
   "source": [
    "imgSrc = card.find_element_by_css_selector('.ImageThumbnail-image').get_attribute('src')"
   ]
  },
  {
   "cell_type": "code",
   "execution_count": 134,
   "id": "3faae51c",
   "metadata": {},
   "outputs": [
    {
     "data": {
      "text/plain": [
       "'https://cdn2.f-cdn.com/ppic/151980752/logo/2239716/profile_logo_2239716.jpg'"
      ]
     },
     "execution_count": 134,
     "metadata": {},
     "output_type": "execute_result"
    }
   ],
   "source": [
    "imgSrc"
   ]
  },
  {
   "cell_type": "markdown",
   "id": "b3ac8bbb",
   "metadata": {},
   "source": [
    "# BeautifulSoup"
   ]
  },
  {
   "cell_type": "markdown",
   "id": "1ff09033",
   "metadata": {},
   "source": [
    "from bs4 import BeautifulSoup as bs"
   ]
  },
  {
   "cell_type": "markdown",
   "id": "87ffa6f8",
   "metadata": {},
   "source": [
    "soup = bs(driver.page_source, 'html.parser')"
   ]
  },
  {
   "cell_type": "markdown",
   "id": "21fed032",
   "metadata": {},
   "source": [
    "mainDiv = soup.find('div', 'freelancer-content')"
   ]
  },
  {
   "cell_type": "markdown",
   "id": "8fef9c4d",
   "metadata": {},
   "source": [
    "profiles = mainDiv.find_all('li', 'ns_result')"
   ]
  },
  {
   "cell_type": "markdown",
   "id": "7b805169",
   "metadata": {},
   "source": [
    "profile = profiles[0]"
   ]
  },
  {
   "cell_type": "markdown",
   "id": "9b092839",
   "metadata": {},
   "source": [
    "name = profile.find('a', 'find-freelancer-username-mobile')"
   ]
  },
  {
   "cell_type": "markdown",
   "id": "bde071af",
   "metadata": {},
   "source": [
    "len(profiles)"
   ]
  },
  {
   "cell_type": "markdown",
   "id": "a8813b21",
   "metadata": {},
   "source": [
    "# For Amazon"
   ]
  },
  {
   "cell_type": "markdown",
   "id": "a8362bed",
   "metadata": {},
   "source": [
    "url = 'https://www.amazon.com/s?i=specialty-aps&bbn=16225009011&rh=n%3A%2116225009011%2Cn%3A281407&ref=nav_em__nav_desktop_sa_intl_accessories_and_supplies_0_2_5_2'\n",
    "elements = driver.find_elements_by_css_selector('.s-border-bottom')\n",
    "for element in elements:\n",
    "    title = element.find_element_by_css_selector('h2').text\n",
    "    print(title)\n",
    "    \n",
    "    try:\n",
    "        priceWhole = element.find_element_by_css_selector('span.a-price-whole').text\n",
    "        priceFraction = element.find_element_by_css_selector('span.a-price-fraction').text\n",
    "        price = f'{priceWhole}.{priceFraction}'\n",
    "        print(price)\n",
    "    except:\n",
    "        pass\n",
    "    \n",
    "    print()"
   ]
  }
 ],
 "metadata": {
  "kernelspec": {
   "display_name": "Python 3 (ipykernel)",
   "language": "python",
   "name": "python3"
  },
  "language_info": {
   "codemirror_mode": {
    "name": "ipython",
    "version": 3
   },
   "file_extension": ".py",
   "mimetype": "text/x-python",
   "name": "python",
   "nbconvert_exporter": "python",
   "pygments_lexer": "ipython3",
   "version": "3.9.7"
  }
 },
 "nbformat": 4,
 "nbformat_minor": 5
}
