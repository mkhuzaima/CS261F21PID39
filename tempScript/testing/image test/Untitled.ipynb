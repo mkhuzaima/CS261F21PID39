{
 "cells": [
  {
   "cell_type": "code",
   "execution_count": 6,
   "id": "76d35812",
   "metadata": {},
   "outputs": [],
   "source": [
    "link = r'G:\\Unknown folder\\New folder\\380k copy.jpg'"
   ]
  },
  {
   "cell_type": "code",
   "execution_count": 4,
   "id": "6fd8ab78",
   "metadata": {},
   "outputs": [],
   "source": [
    "from PIL import Image"
   ]
  },
  {
   "cell_type": "code",
   "execution_count": 10,
   "id": "25360b10",
   "metadata": {},
   "outputs": [],
   "source": [
    "\n",
    "im = Image.open(link)\n"
   ]
  },
  {
   "cell_type": "code",
   "execution_count": 11,
   "id": "21b72601",
   "metadata": {},
   "outputs": [],
   "source": [
    "im.show()"
   ]
  },
  {
   "cell_type": "code",
   "execution_count": 12,
   "id": "38a99437",
   "metadata": {},
   "outputs": [],
   "source": [
    "from IPython.display import Image"
   ]
  },
  {
   "cell_type": "code",
   "execution_count": null,
   "id": "847e856f",
   "metadata": {},
   "outputs": [],
   "source": [
    "Image(filename=link)"
   ]
  },
  {
   "cell_type": "code",
   "execution_count": 17,
   "id": "2d1b07b1",
   "metadata": {},
   "outputs": [
    {
     "name": "stdout",
     "output_type": "stream",
     "text": [
      "Collecting xlsxwriter\n",
      "  Downloading XlsxWriter-3.0.1-py3-none-any.whl (148 kB)\n",
      "Installing collected packages: xlsxwriter\n",
      "Successfully installed xlsxwriter-3.0.1\n"
     ]
    }
   ],
   "source": [
    "!pip install xlsxwriter"
   ]
  },
  {
   "cell_type": "code",
   "execution_count": null,
   "id": "08fb0a30",
   "metadata": {},
   "outputs": [],
   "source": []
  }
 ],
 "metadata": {
  "kernelspec": {
   "display_name": "Python 3 (ipykernel)",
   "language": "python",
   "name": "python3"
  },
  "language_info": {
   "codemirror_mode": {
    "name": "ipython",
    "version": 3
   },
   "file_extension": ".py",
   "mimetype": "text/x-python",
   "name": "python",
   "nbconvert_exporter": "python",
   "pygments_lexer": "ipython3",
   "version": "3.9.7"
  }
 },
 "nbformat": 4,
 "nbformat_minor": 5
}
