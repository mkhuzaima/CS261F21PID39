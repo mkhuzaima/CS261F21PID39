{
 "cells": [
  {
   "cell_type": "code",
   "execution_count": 1,
   "id": "89534203",
   "metadata": {},
   "outputs": [],
   "source": [
    "str = '''Logo Design,\n",
    "                    \n",
    "                    Graphic Design,\n",
    "                    \n",
    "                    Photoshop,\n",
    "                    \n",
    "                    Illustrator,\n",
    "                    \n",
    "                    Copy Typing'''\n"
   ]
  },
  {
   "cell_type": "code",
   "execution_count": 3,
   "id": "0ae7ed6a",
   "metadata": {},
   "outputs": [],
   "source": [
    "l = str.split(',')"
   ]
  },
  {
   "cell_type": "code",
   "execution_count": 6,
   "id": "307f892c",
   "metadata": {},
   "outputs": [
    {
     "data": {
      "text/plain": [
       "'Logo Design'"
      ]
     },
     "execution_count": 6,
     "metadata": {},
     "output_type": "execute_result"
    }
   ],
   "source": [
    "l[0].strip()"
   ]
  },
  {
   "cell_type": "code",
   "execution_count": 7,
   "id": "e22ab7c0",
   "metadata": {},
   "outputs": [],
   "source": [
    "l = [x.strip() for x in l ]"
   ]
  },
  {
   "cell_type": "code",
   "execution_count": 8,
   "id": "b9633452",
   "metadata": {
    "scrolled": true
   },
   "outputs": [
    {
     "data": {
      "text/plain": [
       "['Logo Design', 'Graphic Design', 'Photoshop', 'Illustrator', 'Copy Typing']"
      ]
     },
     "execution_count": 8,
     "metadata": {},
     "output_type": "execute_result"
    }
   ],
   "source": [
    "l"
   ]
  },
  {
   "cell_type": "code",
   "execution_count": 9,
   "id": "4dec3319",
   "metadata": {},
   "outputs": [],
   "source": [
    "s = ', '.join(l)"
   ]
  },
  {
   "cell_type": "code",
   "execution_count": 10,
   "id": "3cc61d06",
   "metadata": {},
   "outputs": [
    {
     "data": {
      "text/plain": [
       "'Logo Design, Graphic Design, Photoshop, Illustrator, Copy Typing'"
      ]
     },
     "execution_count": 10,
     "metadata": {},
     "output_type": "execute_result"
    }
   ],
   "source": [
    "s"
   ]
  }
 ],
 "metadata": {
  "kernelspec": {
   "display_name": "Python 3 (ipykernel)",
   "language": "python",
   "name": "python3"
  },
  "language_info": {
   "codemirror_mode": {
    "name": "ipython",
    "version": 3
   },
   "file_extension": ".py",
   "mimetype": "text/x-python",
   "name": "python",
   "nbconvert_exporter": "python",
   "pygments_lexer": "ipython3",
   "version": "3.9.7"
  }
 },
 "nbformat": 4,
 "nbformat_minor": 5
}
